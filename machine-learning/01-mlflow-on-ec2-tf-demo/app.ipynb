{
 "cells": [
  {
   "cell_type": "code",
   "execution_count": null,
   "id": "5f05cdda",
   "metadata": {},
   "outputs": [],
   "source": [
    "import sys\n",
    "import logging\n",
    "from urllib.parse import urlparse\n",
    "import numpy as np\n",
    "import pandas as pd\n",
    "from sklearn.linear_model import ElasticNet\n",
    "from sklearn.metrics import mean_squared_error, mean_absolute_error, r2_score\n",
    "from sklearn.model_selection import train_test_split\n",
    "import mlflow\n",
    "import mlflow.sklearn\n",
    "from mlflow.models.signature import infer_signature\n",
    "import argparse\n",
    "\n",
    "MLFLOW_SERVER_URI = \"http://ec2-3-121-219-175.eu-central-1.compute.amazonaws.com:5000/\"\n",
    "DATA_URL = \"https://raw.githubusercontent.com/mlflow/mlflow/master/tests/datasets/winequality-red.csv\"\n",
    "EXPERIMENT_NAME = \"Wine-Quality\"\n",
    "\n",
    "logging.basicConfig(level=logging.INFO)\n",
    "logger = logging.getLogger(__name__)\n"
   ]
  },
  {
   "cell_type": "code",
   "execution_count": 2,
   "id": "0bdf4e80-6214-472c-9b3e-965be3edff5d",
   "metadata": {},
   "outputs": [
    {
     "name": "stdout",
     "output_type": "stream",
     "text": [
      "Tracking: http://ec2-3-121-219-175.eu-central-1.compute.amazonaws.com:5000/\n"
     ]
    }
   ],
   "source": [
    "mlflow.set_tracking_uri(MLFLOW_SERVER_URI)\n",
    "mlflow.set_registry_uri(MLFLOW_SERVER_URI)\n",
    "mlflow.set_experiment(EXPERIMENT_NAME)\n",
    "\n",
    "print(\"Tracking:\", mlflow.get_tracking_uri())\n"
   ]
  },
  {
   "cell_type": "code",
   "execution_count": 3,
   "id": "b1bad671",
   "metadata": {},
   "outputs": [],
   "source": [
    "try:\n",
    "    data = pd.read_csv(DATA_URL, sep=\";\")\n",
    "except Exception:\n",
    "    logger.exception(\"Unable to download the data\")\n",
    "    raise"
   ]
  },
  {
   "cell_type": "code",
   "execution_count": 4,
   "id": "56014f75",
   "metadata": {},
   "outputs": [],
   "source": [
    "def eval_metrics(actual, pred):\n",
    "    rmse = float(np.sqrt(mean_squared_error(actual, pred)))\n",
    "    mae = float(mean_absolute_error(actual, pred))\n",
    "    r2 = float(r2_score(actual, pred))\n",
    "    return rmse, mae, r2"
   ]
  },
  {
   "cell_type": "code",
   "execution_count": null,
   "id": "e94ae830",
   "metadata": {},
   "outputs": [],
   "source": [
    "if __name__ == \"__main__\":\n",
    "    mlflow.set_tracking_uri(MLFLOW_SERVER_URI)\n",
    "    mlflow.set_registry_uri(MLFLOW_SERVER_URI)\n",
    "    mlflow.set_experiment(EXPERIMENT_NAME)\n",
    "\n",
    "    # Data\n",
    "    try:\n",
    "        data = pd.read_csv(DATA_URL, sep=\";\")\n",
    "    except Exception:\n",
    "        logger.exception(\"Unable to download the data\")\n",
    "        sys.exit(1)\n",
    "\n",
    "    train, test = train_test_split(data, test_size=0.25, random_state=42)\n",
    "\n",
    "    train_x = train.drop(columns=[\"quality\"])\n",
    "    test_x = test.drop(columns=[\"quality\"])\n",
    "\n",
    "    train_y = train[\"quality\"]\n",
    "    test_y = test[\"quality\"]\n",
    "\n",
    "\n",
    "    # Model parameters\n",
    "    alpha, l1_ratio = 0.7, 0.2\n",
    "\n",
    "\n"
   ]
  },
  {
   "cell_type": "code",
   "execution_count": null,
   "id": "f7d21a3c",
   "metadata": {},
   "outputs": [
    {
     "name": "stdout",
     "output_type": "stream",
     "text": [
      "Elasticnet model (alpha=0.700000, l1_ratio=0.200000):\n",
      "  RMSE: 0.7274527083519514\n",
      "  MAE:  0.5866230480990499\n",
      "  R2:   0.14453153965976995\n"
     ]
    },
    {
     "name": "stderr",
     "output_type": "stream",
     "text": [
      "INFO:botocore.credentials:Found credentials in shared credentials file: ~/.aws/credentials\n",
      "Registered model 'ElasticnetWineModel' already exists. Creating a new version of this model...\n",
      "2025/10/08 15:37:25 INFO mlflow.store.model_registry.abstract_store: Waiting up to 300 seconds for model version to finish creation. Model name: ElasticnetWineModel, version 3\n",
      "Created version '3' of model 'ElasticnetWineModel'.\n"
     ]
    },
    {
     "name": "stdout",
     "output_type": "stream",
     "text": [
      "🏃 View run at: http://ec2-3-121-219-175.eu-central-1.compute.amazonaws.com:5000/#/experiments/1/runs/be6bf7d8c64c4d93b9de9bad1e116006\n",
      "🧪 View experiment at: http://ec2-3-121-219-175.eu-central-1.compute.amazonaws.com:5000/#/experiments/1\n",
      "🏃 View run elasticnet_a0.7_l0.2 at: http://ec2-3-121-219-175.eu-central-1.compute.amazonaws.com:5000/#/experiments/1/runs/be6bf7d8c64c4d93b9de9bad1e116006\n",
      "🧪 View experiment at: http://ec2-3-121-219-175.eu-central-1.compute.amazonaws.com:5000/#/experiments/1\n"
     ]
    }
   ],
   "source": [
    "with mlflow.start_run(run_name=f\"elasticnet_a{alpha}_l{l1_ratio}\"):\n",
    "    # Model\n",
    "    lr = ElasticNet(alpha=alpha, l1_ratio=l1_ratio, random_state=42)\n",
    "    lr.fit(train_x, train_y)\n",
    "\n",
    "    preds = lr.predict(test_x)\n",
    "    rmse, mae, r2 = eval_metrics(test_y, preds)\n",
    "\n",
    "    print(f\"Elasticnet model (alpha={alpha:.6f}, l1_ratio={l1_ratio:.6f}):\")\n",
    "    print(f\"  RMSE: {rmse}\")\n",
    "    print(f\"  MAE:  {mae}\")\n",
    "    print(f\"  R2:   {r2}\")\n",
    "\n",
    "    mlflow.log_params({\"alpha\": alpha, \"l1_ratio\": l1_ratio})\n",
    "    mlflow.log_metrics({\"rmse\": rmse, \"mae\": mae, \"r2\": r2})\n",
    "\n",
    "    signature = infer_signature(train_x, lr.predict(train_x))\n",
    "    input_example = train_x.iloc[:5]\n",
    "\n",
    "    mlflow.sklearn.log_model(\n",
    "        sk_model=lr,\n",
    "        name=\"model\",\n",
    "        signature=signature,\n",
    "        input_example=input_example,\n",
    "        registered_model_name=\"ElasticnetWineModel\",\n",
    "    )\n",
    "\n",
    "    run = mlflow.active_run()\n",
    "    base = MLFLOW_SERVER_URI.rstrip(\"/\")\n",
    "    print(f\"🏃 View run at: {base}/#/experiments/{run.info.experiment_id}/runs/{run.info.run_id}\")\n",
    "    print(f\"🧪 View experiment at: {base}/#/experiments/{run.info.experiment_id}\")"
   ]
  }
 ],
 "metadata": {
  "kernelspec": {
   "display_name": "Python 3.12 (app)",
   "language": "python",
   "name": "app-312"
  },
  "language_info": {
   "codemirror_mode": {
    "name": "ipython",
    "version": 3
   },
   "file_extension": ".py",
   "mimetype": "text/x-python",
   "name": "python",
   "nbconvert_exporter": "python",
   "pygments_lexer": "ipython3",
   "version": "3.12.11"
  }
 },
 "nbformat": 4,
 "nbformat_minor": 5
}
